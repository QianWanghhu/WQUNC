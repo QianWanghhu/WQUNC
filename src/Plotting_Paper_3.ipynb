{
 "cells": [
  {
   "attachments": {},
   "cell_type": "markdown",
   "id": "9b6ff84e",
   "metadata": {},
   "source": [
    "plotting for Paper 3"
   ]
  },
  {
   "cell_type": "code",
   "execution_count": 1,
   "id": "a12992df",
   "metadata": {},
   "outputs": [],
   "source": [
    "import numpy as np\n",
    "import pandas as pd\n",
    "import plotly.io as pio\n",
    "import plotly.graph_objects as go\n",
    "from plotly.subplots import make_subplots\n",
    "import plotly.express as px\n",
    "from plotly.offline import init_notebook_mode "
   ]
  },
  {
   "cell_type": "code",
   "execution_count": 2,
   "id": "4f613bec",
   "metadata": {},
   "outputs": [],
   "source": [
    "# Define common variables\n",
    "outpath = '../output/'\n",
    "fig_path = outpath + 'figs/'\n",
    "data_path = '../data/'\n",
    "import datetime\n",
    "from utils.signatures import update_cumul_df, load_flow_loc"
   ]
  },
  {
   "cell_type": "code",
   "execution_count": 3,
   "id": "16aab014",
   "metadata": {},
   "outputs": [],
   "source": [
    "# import data for analysis\n",
    "from common_settings import  outpath, \\\n",
    "    obs_events, day_load_flow, mod_load_flow"
   ]
  },
  {
   "attachments": {},
   "cell_type": "markdown",
   "id": "e2733b20-602f-4be7-9738-6934321f0490",
   "metadata": {},
   "source": [
    "## Visualize the DIN process of selected events. "
   ]
  },
  {
   "cell_type": "code",
   "execution_count": 4,
   "id": "363ae71f",
   "metadata": {},
   "outputs": [],
   "source": [
    "# import EMC and tranform into a matrix\n",
    "emc_obs = pd.read_csv(f'{outpath}obs_storm_event_common4.csv', index_col='ID')\n",
    "emc_mod = pd.read_csv(f'{outpath}DIN_mod_storm_event_common4.csv', index_col='ID')\n",
    "# Read observed concentration data.\n",
    "fn_conc = 'gbr_WhiSun.xlsx'\n",
    "conc_obs = pd.read_excel(f'{data_path}obs/{fn_conc}', sheet_name='126001A', index_col='DateTime')\n",
    "conc_obs['Oxidised nitrogen (mg/L)'].replace('<0.001', 0.0005)\n",
    "conc_obs['Ammonium nitrogen (mg/L)'].replace('<0.002', 0.001)\n",
    "conc_obs['DIN (mg/L)'] = conc_obs['Oxidised nitrogen (mg/L)'].replace('<0.001', 0.0005) + conc_obs['Ammonium nitrogen (mg/L)'].replace('<0.002', 0.001)\n",
    "conc_obs.index = pd.to_datetime(conc_obs.index)\n",
    "# Read modeled concentration data.\n",
    "conc_mod = pd.read_csv(f'{data_path}mod/DIN_flow.csv', index_col='Date')\n",
    "conc_mod.index = pd.to_datetime(conc_mod.index)\n",
    "\n",
    "conc_obsest = pd.read_csv(f'{data_path}obs/low_interp_flow.csv', index_col='Date')\n",
    "conc_obsest.index = pd.to_datetime(conc_obsest.index, yearfirst=True)\n",
    "\n",
    "# Read hourly flow\n",
    "hour_flow = pd.read_csv(f'{data_path}obs/126001A_hourly.csv', index_col='Time')\n",
    "\n",
    "# Convert start and end time of events into datetime.\n",
    "emc_obs['start'] = pd.to_datetime(emc_obs['start'])\n",
    "emc_obs['end'] = pd.to_datetime(emc_obs['end'])\n",
    "emc_mod['start'] = pd.to_datetime(emc_mod['start'])\n",
    "emc_mod['end'] = pd.to_datetime(emc_mod['end'])\n",
    "\n",
    "day_load_flow['Flow (ML)'] = day_load_flow['Flow (ML)'] / 86.4\n",
    "mod_load_flow['Flow (ML)'] = mod_load_flow['Flow (ML)'] / 86.4"
   ]
  },
  {
   "cell_type": "code",
   "execution_count": 5,
   "id": "29890b37",
   "metadata": {},
   "outputs": [],
   "source": [
    "# read information of the selected events\n",
    "Event_ID = [1, 2, 3] # 45,\n",
    "event_dict = {}\n",
    "conc_dict = {}\n",
    "for i in Event_ID:\n",
    "    event_dict[f'event_obs_{i}'] = day_load_flow[emc_obs.loc[i, 'start']:emc_obs.loc[i, 'end']].filter(items=['Loads (kg)', 'Flow (ML)'])\n",
    "    event_dict[f'event_mod_{i}'] = mod_load_flow[emc_obs.loc[i, 'start']:emc_obs.loc[i, 'end']].filter(items=['Loads (kg)', 'Flow (ML)'])\n",
    "    conc_dict[f'event_obs_{i}'] = conc_obs[emc_obs.loc[i, 'start']:(emc_obs.loc[i, 'end'] + datetime.timedelta(days=1))].filter(items=['DIN (mg/L)'])\n",
    "    conc_dict[f'event_mod_{i}'] = conc_mod[emc_obs.loc[i, 'start']:(emc_obs.loc[i, 'end'] + datetime.timedelta(days=1))].filter(items=['Concentration (mg/L)'])\n",
    "    conc_dict[f'event_obsest_{i}'] = conc_obsest[emc_obs.loc[i, 'start']:(emc_obs.loc[i, 'end'] + datetime.timedelta(days=1))].filter(items=['Concentration (mg/L)'])\n"
   ]
  },
  {
   "cell_type": "code",
   "execution_count": 8,
   "id": "a700b7f6",
   "metadata": {},
   "outputs": [
    {
     "name": "stderr",
     "output_type": "stream",
     "text": [
      "c:\\Users\\wq\\.conda\\envs\\oed\\lib\\site-packages\\plotly\\graph_objs\\_deprecations.py:385: DeprecationWarning:\n",
      "\n",
      "plotly.graph_objs.Line is deprecated.\n",
      "Please replace it with one of the following more specific types\n",
      "  - plotly.graph_objs.scatter.Line\n",
      "  - plotly.graph_objs.layout.shape.Line\n",
      "  - etc.\n",
      "\n",
      "\n"
     ]
    }
   ],
   "source": [
    "# read information of the selected events\n",
    "# Determine whehter to change the yaxis of conc to a log type.\n",
    "logy = True\n",
    "for e_id in range(1, 55, 3):\n",
    "        Event_ID = [e_id, e_id+1, e_id+2] # 45,\n",
    "        event_dict = {}\n",
    "        conc_dict = {}\n",
    "        for i in Event_ID:\n",
    "                event_dict[f'event_obs_{i}'] = day_load_flow[emc_obs.loc[i, 'start']:emc_obs.loc[i, 'end']].filter(items=['Loads (kg)', 'Flow (ML)'])\n",
    "                event_dict[f'event_mod_{i}'] = mod_load_flow[emc_mod.loc[i, 'start']:emc_mod.loc[i, 'end']].filter(items=['Loads (kg)', 'Flow (ML)'])\n",
    "                conc_dict[f'event_obs_{i}'] = conc_obs[emc_obs.loc[i, 'start']:(emc_obs.loc[i, 'end'] + datetime.timedelta(days=1))].filter(items=['DIN (mg/L)'])\n",
    "                conc_dict[f'event_mod_{i}'] = conc_mod[emc_mod.loc[i, 'start']:(emc_mod.loc[i, 'end'] + datetime.timedelta(days=1))].filter(items=['Concentration (mg/L)'])\n",
    "                conc_dict[f'event_obsest_{i}'] = conc_obsest[emc_obs.loc[i, 'start']:(emc_obs.loc[i, 'end'] + datetime.timedelta(days=1))].filter(items=['Concentration (mg/L)'])\n",
    "\n",
    "        labs = ['Loads (kg)', 'Flow (ML)']\n",
    "        fig = make_subplots(rows=3, cols=3, shared_yaxes=False, shared_xaxes=True, \n",
    "                                horizontal_spacing = 0.05, vertical_spacing = 0.01,\n",
    "                                column_titles=[f'Event {i}'for i in Event_ID], row_heights=[1, 1, 1], column_widths=[1, 1, 1])\n",
    "        show_legend = [True, False, False]\n",
    "        for i in range(len(Event_ID)):\n",
    "                x_obs = event_dict[f'event_obs_{Event_ID[i]}'].index\n",
    "                x_mod = event_dict[f'event_mod_{Event_ID[i]}'].index\n",
    "                fig.add_trace(go.Line(x = x_obs, y=event_dict[f'event_obs_{Event_ID[i]}'].loc[:, labs[1]], \\\n",
    "                                name=f'Obs {labs[1]}', line={'color': 'blue'}, showlegend = show_legend[i], mode='lines+markers', opacity=0.7), row=1, col= i+1)\n",
    "\n",
    "                fig.add_trace(go.Line(x = x_mod, y=event_dict[f'event_mod_{Event_ID[i]}'].loc[:, labs[1]], \\\n",
    "                                name=f'Mod {labs[1]}', line={'dash' : 'dot', 'color': 'orange'}, showlegend = show_legend[i], mode='lines+markers', opacity=0.7), row=1, col= i+1)\n",
    "\n",
    "                fig.add_trace(go.Line(x = x_obs, y=event_dict[f'event_obs_{Event_ID[i]}'].loc[:, labs[0]], \\\n",
    "                                name=f'Obs {labs[0]}', line={'color': 'blue'}, showlegend = show_legend[i], mode='lines+markers', opacity=0.7), \\\n",
    "                                row=2, col= i+1)\n",
    "                fig.add_trace(go.Line(x = x_mod, y=event_dict[f'event_mod_{Event_ID[i]}'].loc[:, labs[0]], \\\n",
    "                                name=f'Mod {labs[0]}', line={'dash': 'dot', 'color': 'orange'}, showlegend = show_legend[i], mode='lines+markers', opacity=0.7), \\\n",
    "                                row=2, col= i+1)\n",
    "                \n",
    "                fig.add_trace(go.Line(x = conc_dict[f'event_obs_{Event_ID[i]}'].index, y=conc_dict[f'event_obs_{Event_ID[i]}'].loc[:, 'DIN (mg/L)'], \\\n",
    "                                name='Obs Conc  (mg/L)', line={'color': 'purple'}, showlegend = show_legend[i], mode='markers', marker={'symbol':'cross'}, opacity=0.5), \\\n",
    "                                row=3, col= i+1)\n",
    "                fig.add_trace(go.Line(x = x_mod, y=conc_dict[f'event_mod_{Event_ID[i]}'].loc[:, 'Concentration (mg/L)'], \\\n",
    "                                name='Mod Conc (mg/L)', line={'color': 'orange'}, showlegend = show_legend[i], marker={'symbol':'cross'}, mode='markers', opacity=0.7), \\\n",
    "                                row=3, col= i+1)\n",
    "                fig.add_trace(go.Line(x = x_obs, y=conc_dict[f'event_obsest_{Event_ID[i]}'].loc[:, 'Concentration (mg/L)'], \\\n",
    "                                name='Obs Estimate (mg/L)', line={'color': 'blue'}, showlegend = show_legend[i], mode='markers', marker={'symbol':'cross'}, opacity=0.7), \\\n",
    "                                row=3, col= i+1)\n",
    "                fig[\"layout\"][\"yaxis\"].update({\"title\": \"Flow (Cumsec)\"})\n",
    "                fig[\"layout\"][\"yaxis4\"].update({\"title\": \"Load (Kg)\"})\n",
    "                fig[\"layout\"][\"yaxis7\"].update({\"title\": \"Conc (gm/L)\"})\n",
    "                if logy:\n",
    "                        fig[\"layout\"][\"yaxis7\"].update({'type':'log'})\n",
    "                        fig[\"layout\"][\"yaxis8\"].update({'type':'log'})\n",
    "                        fig[\"layout\"][\"yaxis9\"].update({'type':'log'})\n",
    "                # layout = fig.update_layout(yaxis=dict(title=['Flow (ML)', 'Load (kg)', 'Conc (mg/L)']))\n",
    "                fig.update_layout(autosize=False, width=1000, height=800,)\n",
    "        fig.write_image(fig_path + f'event/event-scale-processes{Event_ID[0]}-{Event_ID[1]}-{Event_ID[2]}-logy.png', scale=2);"
   ]
  },
  {
   "cell_type": "markdown",
   "id": "19993451",
   "metadata": {},
   "source": [
    "## Create observed concentration vs. flow."
   ]
  },
  {
   "cell_type": "code",
   "execution_count": 8,
   "id": "13985b8b",
   "metadata": {},
   "outputs": [],
   "source": [
    "# read information of the selected events\n",
    "# Determine whehter to change the yaxis of conc to a log type.\n",
    "logy = False\n",
    "for e_id in range(1, 4, 3):\n",
    "        # Event_ID = [e_id, e_id+1, e_id+2] # 45,\n",
    "        Event_ID = [28, 32, 42, 3]\n",
    "        event_dict = {}\n",
    "        conc_dict = {}\n",
    "        for i in Event_ID:\n",
    "                event_dict[f'event_obs_{i}'] = day_load_flow[emc_obs.loc[i, 'start']:emc_obs.loc[i, 'end']].filter(items=['Loads (kg)', 'Flow (ML)'])\n",
    "                event_dict[f'event_mod_{i}'] = mod_load_flow[emc_mod.loc[i, 'start']:emc_mod.loc[i, 'end']].filter(items=['Loads (kg)', 'Flow (ML)'])\n",
    "                conc_dict[f'event_obs_{i}'] = conc_obs[emc_obs.loc[i, 'start']:(emc_obs.loc[i, 'end'] + datetime.timedelta(days=1))].filter(items=['DIN (mg/L)'])\n",
    "                conc_dict[f'event_mod_{i}'] = conc_mod[emc_mod.loc[i, 'start']:(emc_mod.loc[i, 'end'] + datetime.timedelta(days=1))].filter(items=['Concentration (mg/L)'])\n",
    "                conc_dict[f'event_obsest_{i}'] = conc_obsest[emc_obs.loc[i, 'start']:(emc_obs.loc[i, 'end'] + datetime.timedelta(days=1))].filter(items=['Concentration (mg/L)'])\n",
    "\n",
    "        labs = ['Loads (kg)', 'Flow (ML)']\n",
    "        fig = make_subplots(rows=2, cols=4, shared_yaxes=False, shared_xaxes=True, \n",
    "                                horizontal_spacing = 0.05, vertical_spacing = 0.01,\n",
    "                                column_titles=[f'Event {i}'for i in Event_ID], row_heights=[1, 1], column_widths=[1, 1, 1, 1])\n",
    "        show_legend = [True, False, False, False]\n",
    "        for i in range(len(Event_ID)):\n",
    "                x_obs = event_dict[f'event_obs_{Event_ID[i]}'].index\n",
    "                x_mod = event_dict[f'event_mod_{Event_ID[i]}'].index\n",
    "                fig.add_trace(go.Line(x = x_obs, y=event_dict[f'event_obs_{Event_ID[i]}'].loc[:, labs[1]], \\\n",
    "                                name=f'Obs flow (cumec)', line={'color': 'blue'}, showlegend = show_legend[i], mode='lines+markers', opacity=0.7), row=1, col= i+1)\n",
    "\n",
    "                fig.add_trace(go.Line(x = x_mod, y=event_dict[f'event_mod_{Event_ID[i]}'].loc[:, labs[1]], \\\n",
    "                                name=f'Mod flow (cumec)', line={'dash' : 'dot', 'color': 'orange'}, showlegend = show_legend[i], mode='lines+markers', opacity=0.7), row=1, col= i+1)\n",
    "                \n",
    "                fig.add_trace(go.Line(x = conc_dict[f'event_obs_{Event_ID[i]}'].index, y=conc_dict[f'event_obs_{Event_ID[i]}'].loc[:, 'DIN (mg/L)'], \\\n",
    "                                name='Obs conc (mg/L)', line={'color': 'purple'}, showlegend = show_legend[i], mode='markers', marker={'symbol':'cross'}, opacity=0.5), \\\n",
    "                                row=2, col= i+1)\n",
    "                fig.add_trace(go.Line(x = x_mod, y=conc_dict[f'event_mod_{Event_ID[i]}'].loc[:, 'Concentration (mg/L)'], \\\n",
    "                                name='Mod conc (mg/L)', line={'color': 'orange'}, showlegend = show_legend[i], marker={'symbol':'cross'}, mode='markers', opacity=0.7), \\\n",
    "                                row=2, col= i+1)\n",
    "                fig[\"layout\"][\"yaxis\"].update({\"title\": \"Flow (cumec)\"})\n",
    "                fig[\"layout\"][\"yaxis5\"].update({\"title\": \"Conc (gm/L)\"})\n",
    "                if logy:\n",
    "                        fig[\"layout\"][\"yaxis4\"].update({'type':'log'})\n",
    "                        fig[\"layout\"][\"yaxis5\"].update({'type':'log'})\n",
    "                        fig[\"layout\"][\"yaxis6\"].update({'type':'log'})\n",
    "                # layout = fig.update_layout(yaxis=dict(title=['Flow (ML)', 'Load (kg)', 'Conc (mg/L)']))\n",
    "                fig.update_layout(autosize=False, width=1200, height=600,)\n",
    "        fig.write_image(fig_path + f'event-conc-flow{Event_ID[0]}-{Event_ID[1]}-{Event_ID[2]}.png', scale=2);"
   ]
  },
  {
   "cell_type": "markdown",
   "id": "3e16694c",
   "metadata": {},
   "source": [
    "## Create the double-mass plot for each component model."
   ]
  },
  {
   "cell_type": "code",
   "execution_count": 4,
   "id": "bcd9a01f",
   "metadata": {},
   "outputs": [],
   "source": [
    "from plotly.subplots import make_subplots\n",
    "color_list = px.colors.qualitative.D3\n",
    "xlabel='Normalized cumulative discharge'\n",
    "ylabel='Normalized cumulative mass'\n",
    "# Read the original contribution file containing parameter names.\n",
    "para_all = pd.read_csv(f'{outpath}contribution_each_param.csv').columns[2:]"
   ]
  },
  {
   "cell_type": "code",
   "execution_count": 5,
   "id": "d97d5666",
   "metadata": {},
   "outputs": [
    {
     "name": "stdout",
     "output_type": "stream",
     "text": [
      "DeliveryRatioSurface\n",
      "DeliveryRatioSeepage\n",
      "Forestry-dissConst_DWC\n",
      "Forestry-dissConst_EMC\n",
      "Grazing Forested-dissConst_DWC\n",
      "Grazing Forested-dissConst_EMC\n",
      "Grazing Open-dissConst_DWC\n",
      "Grazing Open-dissConst_EMC\n",
      "Conservation-dissConst_DWC\n",
      "Conservation-dissConst_EMC\n",
      "Urban-dissConst_DWC\n",
      "Urban-dissConst_EMC\n",
      "Horticulture-dissConst_DWC\n",
      "Horticulture-dissConst_EMC\n",
      "DWC\n"
     ]
    }
   ],
   "source": [
    "# To loop over parameters\n",
    "for p_name in para_all:\n",
    "    print(p_name)\n",
    "    # Read excel\n",
    "    df_mod = pd.read_excel(f'{outpath}{p_name}_cumulative_ratio_day.xlsx', None)\n",
    "    # reshape the dataframe for plotting\n",
    "    # Formatting model simulations\n",
    "    df_mod_plot = pd.DataFrame(columns = ['Date', 'cumul_flow_ratio', 'cumul_load_ratio'])\n",
    "    for k, v in df_mod.items():\n",
    "        df_mod_plot = pd.concat([df_mod_plot, v.loc[:, ['Date', *v.columns[-2:]]]])\n",
    "    df_mod_plot.set_index('Date', inplace=True)\n",
    "    df_mod_plot.index= pd.to_datetime(df_mod_plot.index)\n",
    "\n",
    "    fig = make_subplots(\n",
    "        rows=1, cols=1,\n",
    "        horizontal_spacing = 0.01,\n",
    "        specs=[[{\"type\": \"scatter\"}]]\n",
    "    )\n",
    "        \n",
    "    for ii in range(2009, 2018):\n",
    "        # Plot simulations\n",
    "        df_mod_temp = df_mod_plot.loc[pd.to_datetime(f'{ii}-07-01'):pd.to_datetime(f'{ii+1}-07-01'), :].values\n",
    "        fig.add_trace(go.Scatter(x = df_mod_temp[:, 0], y=df_mod_temp[:, 1], mode = 'lines', name=f'{ii}',\n",
    "                                line = dict(width=2, dash='dot', color = color_list[ii-2009])), \n",
    "                    row=1, col=1)\n",
    "\n",
    "    fig.update_layout(\n",
    "        yaxis = dict(\n",
    "            title_text = ylabel\n",
    "        ),\n",
    "        xaxis = dict(\n",
    "            title_text = xlabel\n",
    "        ),\n",
    "        title=p_name\n",
    "    )\n",
    "\n",
    "    fig.update_layout(height=500, width=800,\n",
    "                    legend = dict(yanchor=\"bottom\", y = 0.01, xanchor = \"right\", x = 0.99, \n",
    "                    font = dict(size=10), orientation='v', bgcolor=\"white\",\n",
    "                    bordercolor=\"Black\",\n",
    "                    borderwidth=1), legend_title_text='Year', font_family = \"Arial\", font_color = 'black')\n",
    "\n",
    "    fig.write_image(f'{fig_path}{p_name}_cumulative_lines_.png', scale=2)"
   ]
  },
  {
   "cell_type": "markdown",
   "id": "63f4e329",
   "metadata": {},
   "source": [
    "## Create the polar plot.\n"
   ]
  },
  {
   "cell_type": "code",
   "execution_count": 8,
   "id": "e84379c0",
   "metadata": {},
   "outputs": [],
   "source": [
    "# Import the file of event loads.\n",
    "fn_event_load = f'{outpath}event_obs_info_new.csv'\n",
    "event_data = pd.read_csv(fn_event_load, index_col='ID')\n",
    "event_data['start'] = pd.to_datetime(event_data['start'])\n",
    "event_data['end'] = pd.to_datetime(event_data['end'])\n",
    "event_data['peaktime_flow_d'] = pd.to_datetime(event_data['peaktime_flow_d'])\n",
    "# Calcualte the relative difference of event loads.\n",
    "event_data['event_load_diff'] = (event_data['mod_event_loads(kg)'] - event_data['obs_event_loads(kg)']) \n",
    "event_data['elc_diff'] = event_data['mod_event_load_coefficients'] - event_data['event_load_coefficients']"
   ]
  },
  {
   "cell_type": "code",
   "execution_count": 22,
   "id": "47a3c9c9",
   "metadata": {},
   "outputs": [],
   "source": [
    "# Convert datetime to theta\n",
    "for ii in event_data.index:\n",
    "    y = event_data.loc[ii, 'peaktime_flow_d'].year\n",
    "    startDay = datetime.date(y, 1, 1)\n",
    "    dayCount = event_data.loc[ii, 'peaktime_flow_d'].date() - startDay\n",
    "    if (y % 4 == 0):\n",
    "        event_data.loc[ii, 'theta'] = dayCount / 366 * 2 * np.pi\n",
    "    else:\n",
    "        event_data.loc[ii, 'theta'] = dayCount / 365 * 2 * np.pi"
   ]
  },
  {
   "cell_type": "code",
   "execution_count": 23,
   "id": "4d04dfcc",
   "metadata": {},
   "outputs": [
    {
     "data": {
      "application/vnd.plotly.v1+json": {
       "config": {
        "plotlyServerURL": "https://plot.ly"
       },
       "data": [
        {
         "hovertemplate": "event_load_diff=%{r}<br>theta=%{theta}<extra></extra>",
         "legendgroup": "",
         "marker": {
          "color": "#636efa",
          "symbol": "circle"
         },
         "mode": "markers",
         "name": "",
         "r": [
          -1083.8029000000001,
          -895.1287898,
          -13977.899254,
          5025.8765570000005,
          6596.33094,
          4427.163798,
          5489.9663519999995,
          -518.0665869000001,
          -666.3087800000001,
          -4809.0326909999985,
          5964.982309999999,
          -4277.463440000003,
          -3510.687078,
          -736.5573049999998,
          -1121.189434,
          2506.4167000000007,
          1203.108946,
          5409.59802,
          -3968.090816,
          -1886.1940635,
          -1482.2597400000004,
          180.52629799999977,
          20988.23276,
          -346.78664460000005,
          104.24043600000005,
          1130.153964,
          -326.89895529999995,
          -23934.301184999997,
          115.48544700000002,
          10698.416980000002,
          2569.615122,
          -27158.624817,
          -6349.592725,
          283.8552769999999,
          822.4481209999999,
          813.4365989999997,
          2924.567588,
          -483.1976548,
          -426.1968458,
          -5577.0042608,
          -691.3584890000002,
          -12429.18553,
          9153.666026,
          321.2646910000001,
          4513.425655,
          -3725.276991,
          -2726.6357800000005,
          5709.104596,
          11412.27487,
          1000.6826830000005,
          -483.6871853,
          -387.91148670000007,
          247.84823540000002,
          2808.7716810000006,
          147.1218599
         ],
         "showlegend": false,
         "subplot": "polar",
         "theta": [
          539892595685000,
          13385766836000,
          37182685652000,
          44619222784000,
          71390756456000,
          87751138140000,
          117497286667000,
          330182248601000,
          404547619912000,
          481887606072000,
          499735295184000,
          533943365981000,
          44619222784000,
          68416141601000,
          78827293587000,
          107086134680000,
          123446516372000,
          132370360925000,
          538405288264000,
          22248656172000,
          48947043571000,
          83061649699000,
          118659499574000,
          216553586715000,
          226936292932000,
          287749286458000,
          532484504330000,
          35695378225000,
          71390756456000,
          92213060423000,
          148730742616000,
          14873074263000,
          44619222784000,
          59492297047000,
          74365371305000,
          126421131220000,
          153192664892000,
          337618785732000,
          394136467925000,
          7436537132000,
          31233455948000,
          53396774809000,
          97894087148000,
          253634680336000,
          292199017697000,
          516168823136000,
          8923844559000,
          46106530212000,
          129395746076000,
          205248424808000,
          432806461005000,
          90725752996000,
          124933823793000,
          136832283207000,
          154679972320000
         ],
         "type": "scatterpolar"
        }
       ],
       "layout": {
        "legend": {
         "tracegroupgap": 0
        },
        "margin": {
         "t": 60
        },
        "polar": {
         "angularaxis": {
          "direction": "clockwise",
          "rotation": 90
         },
         "domain": {
          "x": [
           0,
           1
          ],
          "y": [
           0,
           1
          ]
         }
        },
        "template": {
         "data": {
          "bar": [
           {
            "error_x": {
             "color": "#2a3f5f"
            },
            "error_y": {
             "color": "#2a3f5f"
            },
            "marker": {
             "line": {
              "color": "#E5ECF6",
              "width": 0.5
             },
             "pattern": {
              "fillmode": "overlay",
              "size": 10,
              "solidity": 0.2
             }
            },
            "type": "bar"
           }
          ],
          "barpolar": [
           {
            "marker": {
             "line": {
              "color": "#E5ECF6",
              "width": 0.5
             },
             "pattern": {
              "fillmode": "overlay",
              "size": 10,
              "solidity": 0.2
             }
            },
            "type": "barpolar"
           }
          ],
          "carpet": [
           {
            "aaxis": {
             "endlinecolor": "#2a3f5f",
             "gridcolor": "white",
             "linecolor": "white",
             "minorgridcolor": "white",
             "startlinecolor": "#2a3f5f"
            },
            "baxis": {
             "endlinecolor": "#2a3f5f",
             "gridcolor": "white",
             "linecolor": "white",
             "minorgridcolor": "white",
             "startlinecolor": "#2a3f5f"
            },
            "type": "carpet"
           }
          ],
          "choropleth": [
           {
            "colorbar": {
             "outlinewidth": 0,
             "ticks": ""
            },
            "type": "choropleth"
           }
          ],
          "contour": [
           {
            "colorbar": {
             "outlinewidth": 0,
             "ticks": ""
            },
            "colorscale": [
             [
              0,
              "#0d0887"
             ],
             [
              0.1111111111111111,
              "#46039f"
             ],
             [
              0.2222222222222222,
              "#7201a8"
             ],
             [
              0.3333333333333333,
              "#9c179e"
             ],
             [
              0.4444444444444444,
              "#bd3786"
             ],
             [
              0.5555555555555556,
              "#d8576b"
             ],
             [
              0.6666666666666666,
              "#ed7953"
             ],
             [
              0.7777777777777778,
              "#fb9f3a"
             ],
             [
              0.8888888888888888,
              "#fdca26"
             ],
             [
              1,
              "#f0f921"
             ]
            ],
            "type": "contour"
           }
          ],
          "contourcarpet": [
           {
            "colorbar": {
             "outlinewidth": 0,
             "ticks": ""
            },
            "type": "contourcarpet"
           }
          ],
          "heatmap": [
           {
            "colorbar": {
             "outlinewidth": 0,
             "ticks": ""
            },
            "colorscale": [
             [
              0,
              "#0d0887"
             ],
             [
              0.1111111111111111,
              "#46039f"
             ],
             [
              0.2222222222222222,
              "#7201a8"
             ],
             [
              0.3333333333333333,
              "#9c179e"
             ],
             [
              0.4444444444444444,
              "#bd3786"
             ],
             [
              0.5555555555555556,
              "#d8576b"
             ],
             [
              0.6666666666666666,
              "#ed7953"
             ],
             [
              0.7777777777777778,
              "#fb9f3a"
             ],
             [
              0.8888888888888888,
              "#fdca26"
             ],
             [
              1,
              "#f0f921"
             ]
            ],
            "type": "heatmap"
           }
          ],
          "heatmapgl": [
           {
            "colorbar": {
             "outlinewidth": 0,
             "ticks": ""
            },
            "colorscale": [
             [
              0,
              "#0d0887"
             ],
             [
              0.1111111111111111,
              "#46039f"
             ],
             [
              0.2222222222222222,
              "#7201a8"
             ],
             [
              0.3333333333333333,
              "#9c179e"
             ],
             [
              0.4444444444444444,
              "#bd3786"
             ],
             [
              0.5555555555555556,
              "#d8576b"
             ],
             [
              0.6666666666666666,
              "#ed7953"
             ],
             [
              0.7777777777777778,
              "#fb9f3a"
             ],
             [
              0.8888888888888888,
              "#fdca26"
             ],
             [
              1,
              "#f0f921"
             ]
            ],
            "type": "heatmapgl"
           }
          ],
          "histogram": [
           {
            "marker": {
             "pattern": {
              "fillmode": "overlay",
              "size": 10,
              "solidity": 0.2
             }
            },
            "type": "histogram"
           }
          ],
          "histogram2d": [
           {
            "colorbar": {
             "outlinewidth": 0,
             "ticks": ""
            },
            "colorscale": [
             [
              0,
              "#0d0887"
             ],
             [
              0.1111111111111111,
              "#46039f"
             ],
             [
              0.2222222222222222,
              "#7201a8"
             ],
             [
              0.3333333333333333,
              "#9c179e"
             ],
             [
              0.4444444444444444,
              "#bd3786"
             ],
             [
              0.5555555555555556,
              "#d8576b"
             ],
             [
              0.6666666666666666,
              "#ed7953"
             ],
             [
              0.7777777777777778,
              "#fb9f3a"
             ],
             [
              0.8888888888888888,
              "#fdca26"
             ],
             [
              1,
              "#f0f921"
             ]
            ],
            "type": "histogram2d"
           }
          ],
          "histogram2dcontour": [
           {
            "colorbar": {
             "outlinewidth": 0,
             "ticks": ""
            },
            "colorscale": [
             [
              0,
              "#0d0887"
             ],
             [
              0.1111111111111111,
              "#46039f"
             ],
             [
              0.2222222222222222,
              "#7201a8"
             ],
             [
              0.3333333333333333,
              "#9c179e"
             ],
             [
              0.4444444444444444,
              "#bd3786"
             ],
             [
              0.5555555555555556,
              "#d8576b"
             ],
             [
              0.6666666666666666,
              "#ed7953"
             ],
             [
              0.7777777777777778,
              "#fb9f3a"
             ],
             [
              0.8888888888888888,
              "#fdca26"
             ],
             [
              1,
              "#f0f921"
             ]
            ],
            "type": "histogram2dcontour"
           }
          ],
          "mesh3d": [
           {
            "colorbar": {
             "outlinewidth": 0,
             "ticks": ""
            },
            "type": "mesh3d"
           }
          ],
          "parcoords": [
           {
            "line": {
             "colorbar": {
              "outlinewidth": 0,
              "ticks": ""
             }
            },
            "type": "parcoords"
           }
          ],
          "pie": [
           {
            "automargin": true,
            "type": "pie"
           }
          ],
          "scatter": [
           {
            "fillpattern": {
             "fillmode": "overlay",
             "size": 10,
             "solidity": 0.2
            },
            "type": "scatter"
           }
          ],
          "scatter3d": [
           {
            "line": {
             "colorbar": {
              "outlinewidth": 0,
              "ticks": ""
             }
            },
            "marker": {
             "colorbar": {
              "outlinewidth": 0,
              "ticks": ""
             }
            },
            "type": "scatter3d"
           }
          ],
          "scattercarpet": [
           {
            "marker": {
             "colorbar": {
              "outlinewidth": 0,
              "ticks": ""
             }
            },
            "type": "scattercarpet"
           }
          ],
          "scattergeo": [
           {
            "marker": {
             "colorbar": {
              "outlinewidth": 0,
              "ticks": ""
             }
            },
            "type": "scattergeo"
           }
          ],
          "scattergl": [
           {
            "marker": {
             "colorbar": {
              "outlinewidth": 0,
              "ticks": ""
             }
            },
            "type": "scattergl"
           }
          ],
          "scattermapbox": [
           {
            "marker": {
             "colorbar": {
              "outlinewidth": 0,
              "ticks": ""
             }
            },
            "type": "scattermapbox"
           }
          ],
          "scatterpolar": [
           {
            "marker": {
             "colorbar": {
              "outlinewidth": 0,
              "ticks": ""
             }
            },
            "type": "scatterpolar"
           }
          ],
          "scatterpolargl": [
           {
            "marker": {
             "colorbar": {
              "outlinewidth": 0,
              "ticks": ""
             }
            },
            "type": "scatterpolargl"
           }
          ],
          "scatterternary": [
           {
            "marker": {
             "colorbar": {
              "outlinewidth": 0,
              "ticks": ""
             }
            },
            "type": "scatterternary"
           }
          ],
          "surface": [
           {
            "colorbar": {
             "outlinewidth": 0,
             "ticks": ""
            },
            "colorscale": [
             [
              0,
              "#0d0887"
             ],
             [
              0.1111111111111111,
              "#46039f"
             ],
             [
              0.2222222222222222,
              "#7201a8"
             ],
             [
              0.3333333333333333,
              "#9c179e"
             ],
             [
              0.4444444444444444,
              "#bd3786"
             ],
             [
              0.5555555555555556,
              "#d8576b"
             ],
             [
              0.6666666666666666,
              "#ed7953"
             ],
             [
              0.7777777777777778,
              "#fb9f3a"
             ],
             [
              0.8888888888888888,
              "#fdca26"
             ],
             [
              1,
              "#f0f921"
             ]
            ],
            "type": "surface"
           }
          ],
          "table": [
           {
            "cells": {
             "fill": {
              "color": "#EBF0F8"
             },
             "line": {
              "color": "white"
             }
            },
            "header": {
             "fill": {
              "color": "#C8D4E3"
             },
             "line": {
              "color": "white"
             }
            },
            "type": "table"
           }
          ]
         },
         "layout": {
          "annotationdefaults": {
           "arrowcolor": "#2a3f5f",
           "arrowhead": 0,
           "arrowwidth": 1
          },
          "autotypenumbers": "strict",
          "coloraxis": {
           "colorbar": {
            "outlinewidth": 0,
            "ticks": ""
           }
          },
          "colorscale": {
           "diverging": [
            [
             0,
             "#8e0152"
            ],
            [
             0.1,
             "#c51b7d"
            ],
            [
             0.2,
             "#de77ae"
            ],
            [
             0.3,
             "#f1b6da"
            ],
            [
             0.4,
             "#fde0ef"
            ],
            [
             0.5,
             "#f7f7f7"
            ],
            [
             0.6,
             "#e6f5d0"
            ],
            [
             0.7,
             "#b8e186"
            ],
            [
             0.8,
             "#7fbc41"
            ],
            [
             0.9,
             "#4d9221"
            ],
            [
             1,
             "#276419"
            ]
           ],
           "sequential": [
            [
             0,
             "#0d0887"
            ],
            [
             0.1111111111111111,
             "#46039f"
            ],
            [
             0.2222222222222222,
             "#7201a8"
            ],
            [
             0.3333333333333333,
             "#9c179e"
            ],
            [
             0.4444444444444444,
             "#bd3786"
            ],
            [
             0.5555555555555556,
             "#d8576b"
            ],
            [
             0.6666666666666666,
             "#ed7953"
            ],
            [
             0.7777777777777778,
             "#fb9f3a"
            ],
            [
             0.8888888888888888,
             "#fdca26"
            ],
            [
             1,
             "#f0f921"
            ]
           ],
           "sequentialminus": [
            [
             0,
             "#0d0887"
            ],
            [
             0.1111111111111111,
             "#46039f"
            ],
            [
             0.2222222222222222,
             "#7201a8"
            ],
            [
             0.3333333333333333,
             "#9c179e"
            ],
            [
             0.4444444444444444,
             "#bd3786"
            ],
            [
             0.5555555555555556,
             "#d8576b"
            ],
            [
             0.6666666666666666,
             "#ed7953"
            ],
            [
             0.7777777777777778,
             "#fb9f3a"
            ],
            [
             0.8888888888888888,
             "#fdca26"
            ],
            [
             1,
             "#f0f921"
            ]
           ]
          },
          "colorway": [
           "#636efa",
           "#EF553B",
           "#00cc96",
           "#ab63fa",
           "#FFA15A",
           "#19d3f3",
           "#FF6692",
           "#B6E880",
           "#FF97FF",
           "#FECB52"
          ],
          "font": {
           "color": "#2a3f5f"
          },
          "geo": {
           "bgcolor": "white",
           "lakecolor": "white",
           "landcolor": "#E5ECF6",
           "showlakes": true,
           "showland": true,
           "subunitcolor": "white"
          },
          "hoverlabel": {
           "align": "left"
          },
          "hovermode": "closest",
          "mapbox": {
           "style": "light"
          },
          "paper_bgcolor": "white",
          "plot_bgcolor": "#E5ECF6",
          "polar": {
           "angularaxis": {
            "gridcolor": "white",
            "linecolor": "white",
            "ticks": ""
           },
           "bgcolor": "#E5ECF6",
           "radialaxis": {
            "gridcolor": "white",
            "linecolor": "white",
            "ticks": ""
           }
          },
          "scene": {
           "xaxis": {
            "backgroundcolor": "#E5ECF6",
            "gridcolor": "white",
            "gridwidth": 2,
            "linecolor": "white",
            "showbackground": true,
            "ticks": "",
            "zerolinecolor": "white"
           },
           "yaxis": {
            "backgroundcolor": "#E5ECF6",
            "gridcolor": "white",
            "gridwidth": 2,
            "linecolor": "white",
            "showbackground": true,
            "ticks": "",
            "zerolinecolor": "white"
           },
           "zaxis": {
            "backgroundcolor": "#E5ECF6",
            "gridcolor": "white",
            "gridwidth": 2,
            "linecolor": "white",
            "showbackground": true,
            "ticks": "",
            "zerolinecolor": "white"
           }
          },
          "shapedefaults": {
           "line": {
            "color": "#2a3f5f"
           }
          },
          "ternary": {
           "aaxis": {
            "gridcolor": "white",
            "linecolor": "white",
            "ticks": ""
           },
           "baxis": {
            "gridcolor": "white",
            "linecolor": "white",
            "ticks": ""
           },
           "bgcolor": "#E5ECF6",
           "caxis": {
            "gridcolor": "white",
            "linecolor": "white",
            "ticks": ""
           }
          },
          "title": {
           "x": 0.05
          },
          "xaxis": {
           "automargin": true,
           "gridcolor": "white",
           "linecolor": "white",
           "ticks": "",
           "title": {
            "standoff": 15
           },
           "zerolinecolor": "white",
           "zerolinewidth": 2
          },
          "yaxis": {
           "automargin": true,
           "gridcolor": "white",
           "linecolor": "white",
           "ticks": "",
           "title": {
            "standoff": 15
           },
           "zerolinecolor": "white",
           "zerolinewidth": 2
          }
         }
        }
       }
      }
     },
     "metadata": {},
     "output_type": "display_data"
    }
   ],
   "source": [
    "# create the plot\n",
    "import plotly.express as px\n",
    "fig = px.scatter_polar(event_data, r='event_load_diff', theta = 'theta')\n",
    "fig.show()"
   ]
  },
  {
   "cell_type": "markdown",
   "id": "1a0094a0",
   "metadata": {},
   "source": [
    "## Create plot showing seasonal loads"
   ]
  },
  {
   "cell_type": "code",
   "execution_count": 32,
   "id": "f36bfe64",
   "metadata": {},
   "outputs": [],
   "source": [
    "data_mon = pd.read_csv(f'{outpath}month_loads_sources.csv')\n",
    "df_seasonal = {'mod':{}, 'obs':{}}"
   ]
  },
  {
   "cell_type": "code",
   "execution_count": 33,
   "id": "dd694c39",
   "metadata": {},
   "outputs": [
    {
     "data": {
      "text/html": [
       "<div>\n",
       "<style scoped>\n",
       "    .dataframe tbody tr th:only-of-type {\n",
       "        vertical-align: middle;\n",
       "    }\n",
       "\n",
       "    .dataframe tbody tr th {\n",
       "        vertical-align: top;\n",
       "    }\n",
       "\n",
       "    .dataframe thead th {\n",
       "        text-align: right;\n",
       "    }\n",
       "</style>\n",
       "<table border=\"1\" class=\"dataframe\">\n",
       "  <thead>\n",
       "    <tr style=\"text-align: right;\">\n",
       "      <th></th>\n",
       "      <th>index</th>\n",
       "      <th>mod</th>\n",
       "      <th>obs</th>\n",
       "    </tr>\n",
       "  </thead>\n",
       "  <tbody>\n",
       "    <tr>\n",
       "      <th>0</th>\n",
       "      <td>2009/7</td>\n",
       "      <td>11.325321</td>\n",
       "      <td>260.2713</td>\n",
       "    </tr>\n",
       "    <tr>\n",
       "      <th>1</th>\n",
       "      <td>2009/10</td>\n",
       "      <td>13719.316663</td>\n",
       "      <td>27558.9787</td>\n",
       "    </tr>\n",
       "    <tr>\n",
       "      <th>2</th>\n",
       "      <td>2010/1</td>\n",
       "      <td>49570.462831</td>\n",
       "      <td>45491.0927</td>\n",
       "    </tr>\n",
       "    <tr>\n",
       "      <th>3</th>\n",
       "      <td>2010/4</td>\n",
       "      <td>1813.082779</td>\n",
       "      <td>7858.4604</td>\n",
       "    </tr>\n",
       "    <tr>\n",
       "      <th>4</th>\n",
       "      <td>2010/7</td>\n",
       "      <td>3618.200957</td>\n",
       "      <td>6427.4438</td>\n",
       "    </tr>\n",
       "  </tbody>\n",
       "</table>\n",
       "</div>"
      ],
      "text/plain": [
       "     index           mod         obs\n",
       "0   2009/7     11.325321    260.2713\n",
       "1  2009/10  13719.316663  27558.9787\n",
       "2   2010/1  49570.462831  45491.0927\n",
       "3   2010/4   1813.082779   7858.4604\n",
       "4   2010/7   3618.200957   6427.4438"
      ]
     },
     "execution_count": 33,
     "metadata": {},
     "output_type": "execute_result"
    }
   ],
   "source": [
    "# Calculate the seasonal din loads\n",
    "for ii in range(0, data_mon.index[-1], 3):\n",
    "    t_mon = data_mon.Month[ii]\n",
    "    df_seasonal['mod'][t_mon] = data_mon.loc[ii:(ii+3), 'mod_all'].sum()\n",
    "    df_seasonal['obs'][t_mon] = data_mon.loc[ii:(ii+3), 'obs'].sum()\n",
    "\n",
    "# Convert the dict to dataframe\n",
    "df_seasonal = pd.DataFrame.from_dict(df_seasonal)\n",
    "df_seasonal.reset_index(inplace=True)\n",
    "df_seasonal.head()\n"
   ]
  },
  {
   "cell_type": "code",
   "execution_count": 45,
   "id": "2ca4d586",
   "metadata": {},
   "outputs": [],
   "source": [
    "fig = make_subplots(rows=1, cols=1)\n",
    "fig.add_trace(go.Bar(x=df_seasonal['index'], y=df_seasonal['obs'], name='obs'))\n",
    "fig.add_trace(go.Bar(x=df_seasonal['index'], y=df_seasonal['mod'], name='mod'))\n",
    "fig.update_layout(yaxis=dict(title_text='DIN load (KG)'), xaxis=dict(title_text='Time'))\n",
    "fig.write_image(f'{fig_path}seasonal_load_comparison.png', format='png', scale=2)\n"
   ]
  },
  {
   "cell_type": "code",
   "execution_count": null,
   "id": "e11265b6",
   "metadata": {},
   "outputs": [],
   "source": []
  }
 ],
 "metadata": {
  "kernelspec": {
   "display_name": "wqd_analy",
   "language": "python",
   "name": "python3"
  },
  "language_info": {
   "codemirror_mode": {
    "name": "ipython",
    "version": 3
   },
   "file_extension": ".py",
   "mimetype": "text/x-python",
   "name": "python",
   "nbconvert_exporter": "python",
   "pygments_lexer": "ipython3",
   "version": "3.11.3"
  }
 },
 "nbformat": 4,
 "nbformat_minor": 5
}

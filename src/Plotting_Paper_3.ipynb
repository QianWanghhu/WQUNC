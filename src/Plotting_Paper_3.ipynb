{
 "cells": [
  {
   "attachments": {},
   "cell_type": "markdown",
   "id": "9b6ff84e",
   "metadata": {},
   "source": [
    "plotting for Paper 3"
   ]
  },
  {
   "cell_type": "code",
   "execution_count": 1,
   "id": "a12992df",
   "metadata": {},
   "outputs": [],
   "source": [
    "import numpy as np\n",
    "import pandas as pd\n",
    "import plotly.io as pio\n",
    "import plotly.graph_objects as go\n",
    "from plotly.subplots import make_subplots\n",
    "import plotly.express as px\n",
    "from plotly.offline import init_notebook_mode "
   ]
  },
  {
   "cell_type": "code",
   "execution_count": 8,
   "id": "4f613bec",
   "metadata": {},
   "outputs": [],
   "source": [
    "# Define common variables\n",
    "outpath = '../output/'\n",
    "fig_path = outpath + 'figs/'\n",
    "data_path = '../data/'\n",
    "import datetime\n",
    "from utils.signatures import update_cumul_df, load_flow_loc"
   ]
  },
  {
   "cell_type": "code",
   "execution_count": 2,
   "id": "16aab014",
   "metadata": {},
   "outputs": [],
   "source": [
    "# import data for analysis\n",
    "from common_settings import  outpath, \\\n",
    "    obs_events, day_load_flow, mod_load_flow"
   ]
  },
  {
   "attachments": {},
   "cell_type": "markdown",
   "id": "e2733b20-602f-4be7-9738-6934321f0490",
   "metadata": {},
   "source": [
    "## Visualize the DIN process of selected events. "
   ]
  },
  {
   "cell_type": "code",
   "execution_count": 4,
   "id": "363ae71f",
   "metadata": {},
   "outputs": [],
   "source": [
    "# import EMC and tranform into a matrix\n",
    "emc_obs = pd.read_csv(f'{outpath}obs_storm_event_common4.csv', index_col='ID')\n",
    "emc_mod = pd.read_csv(f'{outpath}DIN_mod_storm_event_common4.csv', index_col='ID')\n",
    "# Read observed concentration data.\n",
    "fn_conc = 'gbr_WhiSun.xlsx'\n",
    "conc_obs = pd.read_excel(f'{data_path}obs/{fn_conc}', sheet_name='126001A', index_col='DateTime')\n",
    "conc_obs['Oxidised nitrogen (mg/L)'].replace('<0.001', 0.0005)\n",
    "conc_obs['Ammonium nitrogen (mg/L)'].replace('<0.002', 0.001)\n",
    "conc_obs['DIN (mg/L)'] = conc_obs['Oxidised nitrogen (mg/L)'].replace('<0.001', 0.0005) + conc_obs['Ammonium nitrogen (mg/L)'].replace('<0.002', 0.001)\n",
    "conc_obs.index = pd.to_datetime(conc_obs.index)\n",
    "# Read modeled concentration data.\n",
    "conc_mod = pd.read_csv(f'{data_path}mod/DIN_flow.csv', index_col='Date')\n",
    "conc_mod.index = pd.to_datetime(conc_mod.index)\n",
    "\n",
    "conc_obsest = pd.read_csv(f'{data_path}obs/low_interp_flow.csv', index_col='Date')\n",
    "conc_obsest.index = pd.to_datetime(conc_obsest.index, yearfirst=True)\n",
    "\n",
    "# Read hourly flow\n",
    "hour_flow = pd.read_csv(f'{data_path}obs/126001A_hourly.csv', index_col='Time')\n",
    "\n",
    "# Convert start and end time of events into datetime.\n",
    "emc_obs['start'] = pd.to_datetime(emc_obs['start'])\n",
    "emc_obs['end'] = pd.to_datetime(emc_obs['end'])\n",
    "emc_mod['start'] = pd.to_datetime(emc_mod['start'])\n",
    "emc_mod['end'] = pd.to_datetime(emc_mod['end'])\n",
    "\n",
    "day_load_flow['Flow (ML)'] = day_load_flow['Flow (ML)'] / 86.4\n",
    "mod_load_flow['Flow (ML)'] = mod_load_flow['Flow (ML)'] / 86.4"
   ]
  },
  {
   "cell_type": "code",
   "execution_count": 5,
   "id": "29890b37",
   "metadata": {},
   "outputs": [],
   "source": [
    "# read information of the selected events\n",
    "Event_ID = [1, 2, 3] # 45,\n",
    "event_dict = {}\n",
    "conc_dict = {}\n",
    "for i in Event_ID:\n",
    "    event_dict[f'event_obs_{i}'] = day_load_flow[emc_obs.loc[i, 'start']:emc_obs.loc[i, 'end']].filter(items=['Loads (kg)', 'Flow (ML)'])\n",
    "    event_dict[f'event_mod_{i}'] = mod_load_flow[emc_obs.loc[i, 'start']:emc_obs.loc[i, 'end']].filter(items=['Loads (kg)', 'Flow (ML)'])\n",
    "    conc_dict[f'event_obs_{i}'] = conc_obs[emc_obs.loc[i, 'start']:(emc_obs.loc[i, 'end'] + datetime.timedelta(days=1))].filter(items=['DIN (mg/L)'])\n",
    "    conc_dict[f'event_mod_{i}'] = conc_mod[emc_obs.loc[i, 'start']:(emc_obs.loc[i, 'end'] + datetime.timedelta(days=1))].filter(items=['Concentration (mg/L)'])\n",
    "    conc_dict[f'event_obsest_{i}'] = conc_obsest[emc_obs.loc[i, 'start']:(emc_obs.loc[i, 'end'] + datetime.timedelta(days=1))].filter(items=['Concentration (mg/L)'])\n"
   ]
  },
  {
   "cell_type": "code",
   "execution_count": 8,
   "id": "a700b7f6",
   "metadata": {},
   "outputs": [
    {
     "name": "stderr",
     "output_type": "stream",
     "text": [
      "c:\\Users\\wq\\.conda\\envs\\oed\\lib\\site-packages\\plotly\\graph_objs\\_deprecations.py:385: DeprecationWarning:\n",
      "\n",
      "plotly.graph_objs.Line is deprecated.\n",
      "Please replace it with one of the following more specific types\n",
      "  - plotly.graph_objs.scatter.Line\n",
      "  - plotly.graph_objs.layout.shape.Line\n",
      "  - etc.\n",
      "\n",
      "\n"
     ]
    }
   ],
   "source": [
    "# read information of the selected events\n",
    "# Determine whehter to change the yaxis of conc to a log type.\n",
    "logy = True\n",
    "for e_id in range(1, 55, 3):\n",
    "        Event_ID = [e_id, e_id+1, e_id+2] # 45,\n",
    "        event_dict = {}\n",
    "        conc_dict = {}\n",
    "        for i in Event_ID:\n",
    "                event_dict[f'event_obs_{i}'] = day_load_flow[emc_obs.loc[i, 'start']:emc_obs.loc[i, 'end']].filter(items=['Loads (kg)', 'Flow (ML)'])\n",
    "                event_dict[f'event_mod_{i}'] = mod_load_flow[emc_mod.loc[i, 'start']:emc_mod.loc[i, 'end']].filter(items=['Loads (kg)', 'Flow (ML)'])\n",
    "                conc_dict[f'event_obs_{i}'] = conc_obs[emc_obs.loc[i, 'start']:(emc_obs.loc[i, 'end'] + datetime.timedelta(days=1))].filter(items=['DIN (mg/L)'])\n",
    "                conc_dict[f'event_mod_{i}'] = conc_mod[emc_mod.loc[i, 'start']:(emc_mod.loc[i, 'end'] + datetime.timedelta(days=1))].filter(items=['Concentration (mg/L)'])\n",
    "                conc_dict[f'event_obsest_{i}'] = conc_obsest[emc_obs.loc[i, 'start']:(emc_obs.loc[i, 'end'] + datetime.timedelta(days=1))].filter(items=['Concentration (mg/L)'])\n",
    "\n",
    "        labs = ['Loads (kg)', 'Flow (ML)']\n",
    "        fig = make_subplots(rows=3, cols=3, shared_yaxes=False, shared_xaxes=True, \n",
    "                                horizontal_spacing = 0.05, vertical_spacing = 0.01,\n",
    "                                column_titles=[f'Event {i}'for i in Event_ID], row_heights=[1, 1, 1], column_widths=[1, 1, 1])\n",
    "        show_legend = [True, False, False]\n",
    "        for i in range(len(Event_ID)):\n",
    "                x_obs = event_dict[f'event_obs_{Event_ID[i]}'].index\n",
    "                x_mod = event_dict[f'event_mod_{Event_ID[i]}'].index\n",
    "                fig.add_trace(go.Line(x = x_obs, y=event_dict[f'event_obs_{Event_ID[i]}'].loc[:, labs[1]], \\\n",
    "                                name=f'Obs {labs[1]}', line={'color': 'blue'}, showlegend = show_legend[i], mode='lines+markers', opacity=0.7), row=1, col= i+1)\n",
    "\n",
    "                fig.add_trace(go.Line(x = x_mod, y=event_dict[f'event_mod_{Event_ID[i]}'].loc[:, labs[1]], \\\n",
    "                                name=f'Mod {labs[1]}', line={'dash' : 'dot', 'color': 'orange'}, showlegend = show_legend[i], mode='lines+markers', opacity=0.7), row=1, col= i+1)\n",
    "\n",
    "                fig.add_trace(go.Line(x = x_obs, y=event_dict[f'event_obs_{Event_ID[i]}'].loc[:, labs[0]], \\\n",
    "                                name=f'Obs {labs[0]}', line={'color': 'blue'}, showlegend = show_legend[i], mode='lines+markers', opacity=0.7), \\\n",
    "                                row=2, col= i+1)\n",
    "                fig.add_trace(go.Line(x = x_mod, y=event_dict[f'event_mod_{Event_ID[i]}'].loc[:, labs[0]], \\\n",
    "                                name=f'Mod {labs[0]}', line={'dash': 'dot', 'color': 'orange'}, showlegend = show_legend[i], mode='lines+markers', opacity=0.7), \\\n",
    "                                row=2, col= i+1)\n",
    "                \n",
    "                fig.add_trace(go.Line(x = conc_dict[f'event_obs_{Event_ID[i]}'].index, y=conc_dict[f'event_obs_{Event_ID[i]}'].loc[:, 'DIN (mg/L)'], \\\n",
    "                                name='Obs Conc  (mg/L)', line={'color': 'purple'}, showlegend = show_legend[i], mode='markers', marker={'symbol':'cross'}, opacity=0.5), \\\n",
    "                                row=3, col= i+1)\n",
    "                fig.add_trace(go.Line(x = x_mod, y=conc_dict[f'event_mod_{Event_ID[i]}'].loc[:, 'Concentration (mg/L)'], \\\n",
    "                                name='Mod Conc (mg/L)', line={'color': 'orange'}, showlegend = show_legend[i], marker={'symbol':'cross'}, mode='markers', opacity=0.7), \\\n",
    "                                row=3, col= i+1)\n",
    "                fig.add_trace(go.Line(x = x_obs, y=conc_dict[f'event_obsest_{Event_ID[i]}'].loc[:, 'Concentration (mg/L)'], \\\n",
    "                                name='Obs Estimate (mg/L)', line={'color': 'blue'}, showlegend = show_legend[i], mode='markers', marker={'symbol':'cross'}, opacity=0.7), \\\n",
    "                                row=3, col= i+1)\n",
    "                fig[\"layout\"][\"yaxis\"].update({\"title\": \"Flow (Cumsec)\"})\n",
    "                fig[\"layout\"][\"yaxis4\"].update({\"title\": \"Load (Kg)\"})\n",
    "                fig[\"layout\"][\"yaxis7\"].update({\"title\": \"Conc (gm/L)\"})\n",
    "                if logy:\n",
    "                        fig[\"layout\"][\"yaxis7\"].update({'type':'log'})\n",
    "                        fig[\"layout\"][\"yaxis8\"].update({'type':'log'})\n",
    "                        fig[\"layout\"][\"yaxis9\"].update({'type':'log'})\n",
    "                # layout = fig.update_layout(yaxis=dict(title=['Flow (ML)', 'Load (kg)', 'Conc (mg/L)']))\n",
    "                fig.update_layout(autosize=False, width=1000, height=800,)\n",
    "        fig.write_image(fig_path + f'event/event-scale-processes{Event_ID[0]}-{Event_ID[1]}-{Event_ID[2]}-logy.png', scale=2);"
   ]
  },
  {
   "cell_type": "markdown",
   "id": "19993451",
   "metadata": {},
   "source": [
    "## Create observed concentration vs. flow."
   ]
  },
  {
   "cell_type": "code",
   "execution_count": 8,
   "id": "13985b8b",
   "metadata": {},
   "outputs": [],
   "source": [
    "# read information of the selected events\n",
    "# Determine whehter to change the yaxis of conc to a log type.\n",
    "logy = False\n",
    "for e_id in range(1, 4, 3):\n",
    "        # Event_ID = [e_id, e_id+1, e_id+2] # 45,\n",
    "        Event_ID = [28, 32, 42, 3]\n",
    "        event_dict = {}\n",
    "        conc_dict = {}\n",
    "        for i in Event_ID:\n",
    "                event_dict[f'event_obs_{i}'] = day_load_flow[emc_obs.loc[i, 'start']:emc_obs.loc[i, 'end']].filter(items=['Loads (kg)', 'Flow (ML)'])\n",
    "                event_dict[f'event_mod_{i}'] = mod_load_flow[emc_mod.loc[i, 'start']:emc_mod.loc[i, 'end']].filter(items=['Loads (kg)', 'Flow (ML)'])\n",
    "                conc_dict[f'event_obs_{i}'] = conc_obs[emc_obs.loc[i, 'start']:(emc_obs.loc[i, 'end'] + datetime.timedelta(days=1))].filter(items=['DIN (mg/L)'])\n",
    "                conc_dict[f'event_mod_{i}'] = conc_mod[emc_mod.loc[i, 'start']:(emc_mod.loc[i, 'end'] + datetime.timedelta(days=1))].filter(items=['Concentration (mg/L)'])\n",
    "                conc_dict[f'event_obsest_{i}'] = conc_obsest[emc_obs.loc[i, 'start']:(emc_obs.loc[i, 'end'] + datetime.timedelta(days=1))].filter(items=['Concentration (mg/L)'])\n",
    "\n",
    "        labs = ['Loads (kg)', 'Flow (ML)']\n",
    "        fig = make_subplots(rows=2, cols=4, shared_yaxes=False, shared_xaxes=True, \n",
    "                                horizontal_spacing = 0.05, vertical_spacing = 0.01,\n",
    "                                column_titles=[f'Event {i}'for i in Event_ID], row_heights=[1, 1], column_widths=[1, 1, 1, 1])\n",
    "        show_legend = [True, False, False, False]\n",
    "        for i in range(len(Event_ID)):\n",
    "                x_obs = event_dict[f'event_obs_{Event_ID[i]}'].index\n",
    "                x_mod = event_dict[f'event_mod_{Event_ID[i]}'].index\n",
    "                fig.add_trace(go.Line(x = x_obs, y=event_dict[f'event_obs_{Event_ID[i]}'].loc[:, labs[1]], \\\n",
    "                                name=f'Obs flow (cumec)', line={'color': 'blue'}, showlegend = show_legend[i], mode='lines+markers', opacity=0.7), row=1, col= i+1)\n",
    "\n",
    "                fig.add_trace(go.Line(x = x_mod, y=event_dict[f'event_mod_{Event_ID[i]}'].loc[:, labs[1]], \\\n",
    "                                name=f'Mod flow (cumec)', line={'dash' : 'dot', 'color': 'orange'}, showlegend = show_legend[i], mode='lines+markers', opacity=0.7), row=1, col= i+1)\n",
    "                \n",
    "                fig.add_trace(go.Line(x = conc_dict[f'event_obs_{Event_ID[i]}'].index, y=conc_dict[f'event_obs_{Event_ID[i]}'].loc[:, 'DIN (mg/L)'], \\\n",
    "                                name='Obs conc (mg/L)', line={'color': 'purple'}, showlegend = show_legend[i], mode='markers', marker={'symbol':'cross'}, opacity=0.5), \\\n",
    "                                row=2, col= i+1)\n",
    "                fig.add_trace(go.Line(x = x_mod, y=conc_dict[f'event_mod_{Event_ID[i]}'].loc[:, 'Concentration (mg/L)'], \\\n",
    "                                name='Mod conc (mg/L)', line={'color': 'orange'}, showlegend = show_legend[i], marker={'symbol':'cross'}, mode='markers', opacity=0.7), \\\n",
    "                                row=2, col= i+1)\n",
    "                fig[\"layout\"][\"yaxis\"].update({\"title\": \"Flow (cumec)\"})\n",
    "                fig[\"layout\"][\"yaxis5\"].update({\"title\": \"Conc (gm/L)\"})\n",
    "                if logy:\n",
    "                        fig[\"layout\"][\"yaxis4\"].update({'type':'log'})\n",
    "                        fig[\"layout\"][\"yaxis5\"].update({'type':'log'})\n",
    "                        fig[\"layout\"][\"yaxis6\"].update({'type':'log'})\n",
    "                # layout = fig.update_layout(yaxis=dict(title=['Flow (ML)', 'Load (kg)', 'Conc (mg/L)']))\n",
    "                fig.update_layout(autosize=False, width=1200, height=600,)\n",
    "        fig.write_image(fig_path + f'event-conc-flow{Event_ID[0]}-{Event_ID[1]}-{Event_ID[2]}.png', scale=2);"
   ]
  },
  {
   "cell_type": "markdown",
   "id": "3e16694c",
   "metadata": {},
   "source": [
    "## Create the double-mass plot for each component model."
   ]
  },
  {
   "cell_type": "code",
   "execution_count": 4,
   "id": "bcd9a01f",
   "metadata": {},
   "outputs": [],
   "source": [
    "from plotly.subplots import make_subplots\n",
    "color_list = px.colors.qualitative.D3\n",
    "xlabel='Normalized cumulative discharge'\n",
    "ylabel='Normalized cumulative mass'\n",
    "# Read the original contribution file containing parameter names.\n",
    "para_all = pd.read_csv(f'{outpath}contribution_each_param.csv').columns[2:]"
   ]
  },
  {
   "cell_type": "code",
   "execution_count": 5,
   "id": "d97d5666",
   "metadata": {},
   "outputs": [
    {
     "name": "stdout",
     "output_type": "stream",
     "text": [
      "DeliveryRatioSurface\n",
      "DeliveryRatioSeepage\n",
      "Forestry-dissConst_DWC\n",
      "Forestry-dissConst_EMC\n",
      "Grazing Forested-dissConst_DWC\n",
      "Grazing Forested-dissConst_EMC\n",
      "Grazing Open-dissConst_DWC\n",
      "Grazing Open-dissConst_EMC\n",
      "Conservation-dissConst_DWC\n",
      "Conservation-dissConst_EMC\n",
      "Urban-dissConst_DWC\n",
      "Urban-dissConst_EMC\n",
      "Horticulture-dissConst_DWC\n",
      "Horticulture-dissConst_EMC\n",
      "DWC\n"
     ]
    }
   ],
   "source": [
    "# To loop over parameters\n",
    "for p_name in para_all:\n",
    "    print(p_name)\n",
    "    # Read excel\n",
    "    df_mod = pd.read_excel(f'{outpath}{p_name}_cumulative_ratio_day.xlsx', None)\n",
    "    # reshape the dataframe for plotting\n",
    "    # Formatting model simulations\n",
    "    df_mod_plot = pd.DataFrame(columns = ['Date', 'cumul_flow_ratio', 'cumul_load_ratio'])\n",
    "    for k, v in df_mod.items():\n",
    "        df_mod_plot = pd.concat([df_mod_plot, v.loc[:, ['Date', *v.columns[-2:]]]])\n",
    "    df_mod_plot.set_index('Date', inplace=True)\n",
    "    df_mod_plot.index= pd.to_datetime(df_mod_plot.index)\n",
    "\n",
    "    fig = make_subplots(\n",
    "        rows=1, cols=1,\n",
    "        horizontal_spacing = 0.01,\n",
    "        specs=[[{\"type\": \"scatter\"}]]\n",
    "    )\n",
    "        \n",
    "    for ii in range(2009, 2018):\n",
    "        # Plot simulations\n",
    "        df_mod_temp = df_mod_plot.loc[pd.to_datetime(f'{ii}-07-01'):pd.to_datetime(f'{ii+1}-07-01'), :].values\n",
    "        fig.add_trace(go.Scatter(x = df_mod_temp[:, 0], y=df_mod_temp[:, 1], mode = 'lines', name=f'{ii}',\n",
    "                                line = dict(width=2, dash='dot', color = color_list[ii-2009])), \n",
    "                    row=1, col=1)\n",
    "\n",
    "    fig.update_layout(\n",
    "        yaxis = dict(\n",
    "            title_text = ylabel\n",
    "        ),\n",
    "        xaxis = dict(\n",
    "            title_text = xlabel\n",
    "        ),\n",
    "        title=p_name\n",
    "    )\n",
    "\n",
    "    fig.update_layout(height=500, width=800,\n",
    "                    legend = dict(yanchor=\"bottom\", y = 0.01, xanchor = \"right\", x = 0.99, \n",
    "                    font = dict(size=10), orientation='v', bgcolor=\"white\",\n",
    "                    bordercolor=\"Black\",\n",
    "                    borderwidth=1), legend_title_text='Year', font_family = \"Arial\", font_color = 'black')\n",
    "\n",
    "    fig.write_image(f'{fig_path}{p_name}_cumulative_lines_.png', scale=2)"
   ]
  },
  {
   "cell_type": "markdown",
   "id": "1a0094a0",
   "metadata": {},
   "source": [
    "## Create plot showing seasonal loads"
   ]
  },
  {
   "cell_type": "code",
   "execution_count": 13,
   "id": "f36bfe64",
   "metadata": {},
   "outputs": [],
   "source": [
    "data_mon = pd.read_csv(f'{outpath}month_loads_sources.csv')\n",
    "df_seasonal = {'mod':{}, 'obs':{}}"
   ]
  },
  {
   "cell_type": "code",
   "execution_count": 4,
   "id": "dd694c39",
   "metadata": {},
   "outputs": [
    {
     "data": {
      "text/html": [
       "<div>\n",
       "<style scoped>\n",
       "    .dataframe tbody tr th:only-of-type {\n",
       "        vertical-align: middle;\n",
       "    }\n",
       "\n",
       "    .dataframe tbody tr th {\n",
       "        vertical-align: top;\n",
       "    }\n",
       "\n",
       "    .dataframe thead th {\n",
       "        text-align: right;\n",
       "    }\n",
       "</style>\n",
       "<table border=\"1\" class=\"dataframe\">\n",
       "  <thead>\n",
       "    <tr style=\"text-align: right;\">\n",
       "      <th></th>\n",
       "      <th>index</th>\n",
       "      <th>mod</th>\n",
       "      <th>obs</th>\n",
       "    </tr>\n",
       "  </thead>\n",
       "  <tbody>\n",
       "    <tr>\n",
       "      <th>0</th>\n",
       "      <td>2009/7</td>\n",
       "      <td>11.325321</td>\n",
       "      <td>260.2713</td>\n",
       "    </tr>\n",
       "    <tr>\n",
       "      <th>1</th>\n",
       "      <td>2009/10</td>\n",
       "      <td>13719.316663</td>\n",
       "      <td>27558.9787</td>\n",
       "    </tr>\n",
       "    <tr>\n",
       "      <th>2</th>\n",
       "      <td>2010/1</td>\n",
       "      <td>49570.462831</td>\n",
       "      <td>45491.0927</td>\n",
       "    </tr>\n",
       "    <tr>\n",
       "      <th>3</th>\n",
       "      <td>2010/4</td>\n",
       "      <td>1813.082779</td>\n",
       "      <td>7858.4604</td>\n",
       "    </tr>\n",
       "    <tr>\n",
       "      <th>4</th>\n",
       "      <td>2010/7</td>\n",
       "      <td>3618.200957</td>\n",
       "      <td>6427.4438</td>\n",
       "    </tr>\n",
       "  </tbody>\n",
       "</table>\n",
       "</div>"
      ],
      "text/plain": [
       "     index           mod         obs\n",
       "0   2009/7     11.325321    260.2713\n",
       "1  2009/10  13719.316663  27558.9787\n",
       "2   2010/1  49570.462831  45491.0927\n",
       "3   2010/4   1813.082779   7858.4604\n",
       "4   2010/7   3618.200957   6427.4438"
      ]
     },
     "execution_count": 4,
     "metadata": {},
     "output_type": "execute_result"
    }
   ],
   "source": [
    "# Calculate the seasonal din loads\n",
    "for ii in range(0, data_mon.index[-1], 3):\n",
    "    t_mon = data_mon.Month[ii]\n",
    "    df_seasonal['mod'][t_mon] = data_mon.loc[ii:(ii+3), 'mod_all'].sum()\n",
    "    df_seasonal['obs'][t_mon] = data_mon.loc[ii:(ii+3), 'obs'].sum()\n",
    "\n",
    "# Convert the dict to dataframe\n",
    "df_seasonal = pd.DataFrame.from_dict(df_seasonal)\n",
    "df_seasonal.reset_index(inplace=True)\n",
    "df_seasonal.head()\n"
   ]
  },
  {
   "cell_type": "code",
   "execution_count": 9,
   "id": "2ca4d586",
   "metadata": {},
   "outputs": [],
   "source": [
    "df_plot = df_seasonal.loc[1::4, :] # Select seasons Oct.-Dec.\n",
    "# Add the number of samples.\n",
    "# Read the file containing raw samples.\n",
    "fn = 'gbr_WhiSun.xlsx'\n",
    "dir_data = '../data/obs/'\n",
    "conc = pd.read_excel(f'{dir_data}{fn}', sheet_name='126001A')\n",
    "conc['DateTime'] = pd.to_datetime(conc['DateTime'])\n",
    "wq_numbers = []\n",
    "# Count the #samples.\n",
    "for year in range(2009, 2018):\n",
    "    t_start, t_end = pd.to_datetime(f'{year}-10-01'), pd.to_datetime(f'{year}-12-31')\n",
    "    wq_samples = conc[conc['DateTime'] >= t_start][conc['DateTime'] < t_end + datetime.timedelta(days=1)];\n",
    "    wq_numbers.append(wq_samples.shape[0])\n",
    "df_plot.loc[:, 'sample_counts'] = wq_numbers"
   ]
  },
  {
   "cell_type": "code",
   "execution_count": 50,
   "id": "049ba513",
   "metadata": {},
   "outputs": [],
   "source": [
    "# Add sample counts in the figure.\n",
    "fig = make_subplots(rows=1, cols=1, specs=[[{\"secondary_y\": True}]])\n",
    "fig.add_trace(go.Bar(x=df_plot['index'], y=df_plot['obs'], name='obs'), secondary_y=False)\n",
    "fig.add_trace(go.Bar(x=df_plot['index'], y=df_plot['mod'], name='mod'), secondary_y=False)\n",
    "fig.add_trace(go.Line(x=df_plot['index'], y=df_plot['sample_counts'], name='sample_counts'), secondary_y=True)\n",
    "fig.update_layout(yaxis=dict(title_text='DIN load (KG)'), xaxis=dict(title_text='Time'))\n",
    "fig.update_yaxes(title_text=\"Number of conc. samples\", secondary_y=True)\n",
    "fig.write_image(f'{fig_path}wet_seasonal_load_comparison.png', format='png', scale=2)"
   ]
  }
 ],
 "metadata": {
  "kernelspec": {
   "display_name": "wqd_analy",
   "language": "python",
   "name": "python3"
  },
  "language_info": {
   "codemirror_mode": {
    "name": "ipython",
    "version": 3
   },
   "file_extension": ".py",
   "mimetype": "text/x-python",
   "name": "python",
   "nbconvert_exporter": "python",
   "pygments_lexer": "ipython3",
   "version": "3.11.3"
  }
 },
 "nbformat": 4,
 "nbformat_minor": 5
}
